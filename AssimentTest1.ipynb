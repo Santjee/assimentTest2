{
 "cells": [
  {
   "cell_type": "code",
   "execution_count": 4,
   "id": "44694af5-6934-4bcc-aa39-0dcd712ead34",
   "metadata": {},
   "outputs": [
    {
     "data": {
      "text/plain": [
       "str"
      ]
     },
     "execution_count": 4,
     "metadata": {},
     "output_type": "execute_result"
    }
   ],
   "source": [
    "a = \" \"\n",
    "type(a)"
   ]
  },
  {
   "cell_type": "code",
   "execution_count": 5,
   "id": "a1d08389-d3ea-4b8b-8eb1-265d431b89e9",
   "metadata": {},
   "outputs": [
    {
     "data": {
      "text/plain": [
       "list"
      ]
     },
     "execution_count": 5,
     "metadata": {},
     "output_type": "execute_result"
    }
   ],
   "source": [
    "b = []\n",
    "type(b)"
   ]
  },
  {
   "cell_type": "code",
   "execution_count": 6,
   "id": "090f637b-9991-44fe-8437-a4e383d63935",
   "metadata": {},
   "outputs": [
    {
     "data": {
      "text/plain": [
       "float"
      ]
     },
     "execution_count": 6,
     "metadata": {},
     "output_type": "execute_result"
    }
   ],
   "source": [
    "c = 5.6\n",
    "type(c)"
   ]
  },
  {
   "cell_type": "code",
   "execution_count": 7,
   "id": "31578103-171a-4bdb-8ae8-5728fa9d36d9",
   "metadata": {},
   "outputs": [
    {
     "data": {
      "text/plain": [
       "tuple"
      ]
     },
     "execution_count": 7,
     "metadata": {},
     "output_type": "execute_result"
    }
   ],
   "source": [
    "d = ()\n",
    "type(d)"
   ]
  },
  {
   "cell_type": "code",
   "execution_count": null,
   "id": "181778de-e3b4-448d-ad93-dcb6fe0d6d0e",
   "metadata": {},
   "outputs": [],
   "source": [
    " # Question 2:"
   ]
  },
  {
   "cell_type": "code",
   "execution_count": 8,
   "id": "142cadf5-50bf-43ed-b1c6-3aafe82769f4",
   "metadata": {},
   "outputs": [
    {
     "data": {
      "text/plain": [
       "str"
      ]
     },
     "execution_count": 8,
     "metadata": {},
     "output_type": "execute_result"
    }
   ],
   "source": [
    "var1 = ''\n",
    "type(var1)"
   ]
  },
  {
   "cell_type": "code",
   "execution_count": 9,
   "id": "c94ec2bc-bc94-4ecc-a2be-a082e3d737ad",
   "metadata": {},
   "outputs": [
    {
     "data": {
      "text/plain": [
       "str"
      ]
     },
     "execution_count": 9,
     "metadata": {},
     "output_type": "execute_result"
    }
   ],
   "source": [
    "var2 = '[DS,ML,Python]'\n",
    "type(var2)"
   ]
  },
  {
   "cell_type": "code",
   "execution_count": 10,
   "id": "3a7c26bd-325e-4f06-be2a-77059a8a57e2",
   "metadata": {},
   "outputs": [
    {
     "data": {
      "text/plain": [
       "list"
      ]
     },
     "execution_count": 10,
     "metadata": {},
     "output_type": "execute_result"
    }
   ],
   "source": [
    "var3 = ['DS','ML','Python']\n",
    "type(var3)"
   ]
  },
  {
   "cell_type": "code",
   "execution_count": 11,
   "id": "858d62bf-dfe7-4ecc-a9ef-984c343ff196",
   "metadata": {},
   "outputs": [
    {
     "data": {
      "text/plain": [
       "float"
      ]
     },
     "execution_count": 11,
     "metadata": {},
     "output_type": "execute_result"
    }
   ],
   "source": [
    "var4 = 1.\n",
    "type(var4)"
   ]
  },
  {
   "cell_type": "code",
   "execution_count": null,
   "id": "a5ff0928-4a86-458a-8b30-3681e3f1be37",
   "metadata": {},
   "outputs": [],
   "source": [
    "# Question 3:"
   ]
  },
  {
   "cell_type": "code",
   "execution_count": 12,
   "id": "14ebd72d-df9b-41e4-92d6-efe48c31a64c",
   "metadata": {},
   "outputs": [
    {
     "name": "stdout",
     "output_type": "stream",
     "text": [
      "2.0\n"
     ]
    }
   ],
   "source": [
    "# 1. (/):- The division operator (/) is a fundamental arithmetic operator in programming language \n",
    "# that perform the division operation on numerical values. Ex:-\n",
    "a = 10/5\n",
    "print(a)\n",
    "\n"
   ]
  },
  {
   "cell_type": "code",
   "execution_count": 14,
   "id": "f267f4e8-c19f-4c6b-9368-490ef7a4c895",
   "metadata": {},
   "outputs": [
    {
     "data": {
      "text/plain": [
       "3"
      ]
     },
     "execution_count": 14,
     "metadata": {},
     "output_type": "execute_result"
    }
   ],
   "source": [
    "# 2. (%):- The remainder (%) operator returns the remainder left over when one operand is divided by a second operand. \n",
    "# It always takes the sign of the dividend.Ex:-\n",
    "13 % 5\n"
   ]
  },
  {
   "cell_type": "code",
   "execution_count": 15,
   "id": "a488f031-b7cd-4b66-93b3-2b539a7f24e0",
   "metadata": {},
   "outputs": [
    {
     "name": "stdout",
     "output_type": "stream",
     "text": [
      "2\n",
      "-3\n"
     ]
    }
   ],
   "source": [
    "# 3. (//):-\n",
    "# A Python program to demonstrate the use of\n",
    "# \"//\" for integers\n",
    "print (5//2)\n",
    "print (-5//2)"
   ]
  },
  {
   "cell_type": "code",
   "execution_count": 16,
   "id": "6120810c-2f92-4aea-9a90-ab8f86452fa1",
   "metadata": {},
   "outputs": [
    {
     "data": {
      "text/plain": [
       "128"
      ]
     },
     "execution_count": 16,
     "metadata": {},
     "output_type": "execute_result"
    }
   ],
   "source": [
    "# 4.(**):-\n",
    "# Exponentiation is a mathematical operation, often called raising a number to a power,\n",
    "# where a given number is multiplied by itself a given number of times.\n",
    "# This is also often called the exponentof a given number.\n",
    "2**7"
   ]
  },
  {
   "cell_type": "code",
   "execution_count": 1,
   "id": "9bca3f20-a54d-4f7c-9902-44bc4b15c270",
   "metadata": {},
   "outputs": [
    {
     "name": "stdout",
     "output_type": "stream",
     "text": [
      "Type of 1452 is <class 'int'>\n",
      "Type of 11.23 is <class 'float'>\n",
      "Type of (1+2j) is <class 'complex'>\n",
      "Type of True is <class 'bool'>\n",
      "Type of w3resource is <class 'str'>\n",
      "Type of (0, -1) is <class 'tuple'>\n",
      "Type of [5, 12] is <class 'list'>\n",
      "Type of {'class': 'V', 'section': 'A'} is <class 'dict'>\n",
      "Type of None is <class 'NoneType'>\n",
      "Type of 3.14 is <class 'float'>\n"
     ]
    }
   ],
   "source": [
    "# 4.Here’s an example of how you can create a list of length 10 containing multiple types of data\n",
    "# and print the element and its data type using a for loop in Python.\n",
    "datalist = [1452, 11.23, 1+2j, True, 'w3resource', (0, -1), [5, 12], {\"class\":'V', \"section\":'A'}, None, 3.14]\n",
    "for item in datalist:\n",
    "    print(\"Type of\", item, \"is\", type(item))\n"
   ]
  },
  {
   "cell_type": "code",
   "execution_count": 2,
   "id": "50d7a496-03a0-4cc3-829c-e15ec1e16a09",
   "metadata": {},
   "outputs": [
    {
     "name": "stdout",
     "output_type": "stream",
     "text": [
      "5 is a factor of 100 and it can be divided 2 times.\n"
     ]
    }
   ],
   "source": [
    "# 5.Here’s an example of how you can use a while loop to verify if the number A is purely divisible by number B\n",
    "# and if so then how many times it can be divisible in Python:\n",
    "A = 100\n",
    "B = 5\n",
    "count = 0\n",
    "\n",
    "while A % B == 0:\n",
    "    count += 1\n",
    "    A /= B\n",
    "\n",
    "if count > 0:\n",
    "    print(f\"{B} is a factor of {100} and it can be divided {count} times.\")\n",
    "else:\n",
    "    print(f\"{B} is not a factor of {100}.\")\n"
   ]
  },
  {
   "cell_type": "code",
   "execution_count": 3,
   "id": "a01506bc-7a9b-40b3-bb46-b639c36ccda3",
   "metadata": {},
   "outputs": [
    {
     "name": "stdout",
     "output_type": "stream",
     "text": [
      "6 is divisible by 3\n",
      "8 is not divisible by 3\n",
      "12 is divisible by 3\n",
      "15 is divisible by 3\n",
      "17 is not divisible by 3\n",
      "21 is divisible by 3\n",
      "24 is divisible by 3\n",
      "27 is divisible by 3\n",
      "30 is divisible by 3\n",
      "33 is divisible by 3\n",
      "36 is divisible by 3\n",
      "40 is not divisible by 3\n",
      "42 is divisible by 3\n",
      "45 is divisible by 3\n",
      "48 is divisible by 3\n",
      "51 is divisible by 3\n",
      "54 is divisible by 3\n",
      "57 is divisible by 3\n",
      "60 is divisible by 3\n",
      "63 is divisible by 3\n",
      "66 is divisible by 3\n",
      "69 is divisible by 3\n",
      "72 is divisible by 3\n",
      "75 is divisible by 3\n",
      "80 is not divisible by 3\n"
     ]
    }
   ],
   "source": [
    "# 6. Here's an example of how you can create a list of 25 integers and use a for loop\n",
    "# with an if-else condition to check if each element is divisible by 3 or not:\n",
    "numbers = [6, 8, 12, 15, 17, 21, 24, 27, 30, 33, 36, 40, 42, 45, 48, 51, 54, 57, 60, 63, 66, 69, 72, 75, 80]\n",
    "\n",
    "for num in numbers:\n",
    "    if num % 3 == 0:\n",
    "        print(f\"{num} is divisible by 3\")\n",
    "    else:\n",
    "        print(f\"{num} is not divisible by 3\")\n"
   ]
  },
  {
   "cell_type": "code",
   "execution_count": 4,
   "id": "f498da02-fab3-486c-9bc5-dd243db25c5f",
   "metadata": {},
   "outputs": [
    {
     "name": "stdout",
     "output_type": "stream",
     "text": [
      "[10, 2, 3]\n"
     ]
    }
   ],
   "source": [
    "# 7.Lists: Lists in Python are mutable. You can change, add, or\n",
    "# remove elements from a list after it has been created. For example:\n",
    "my_list = [1, 2, 3]\n",
    "my_list[0] = 10\n",
    "print(my_list)  # Output: [10, 2, 3]\n"
   ]
  },
  {
   "cell_type": "code",
   "execution_count": null,
   "id": "5ae6b8b9-e726-42c8-bb04-63e76827d888",
   "metadata": {},
   "outputs": [],
   "source": []
  }
 ],
 "metadata": {
  "kernelspec": {
   "display_name": "Python 3 (ipykernel)",
   "language": "python",
   "name": "python3"
  },
  "language_info": {
   "codemirror_mode": {
    "name": "ipython",
    "version": 3
   },
   "file_extension": ".py",
   "mimetype": "text/x-python",
   "name": "python",
   "nbconvert_exporter": "python",
   "pygments_lexer": "ipython3",
   "version": "3.10.8"
  }
 },
 "nbformat": 4,
 "nbformat_minor": 5
}
